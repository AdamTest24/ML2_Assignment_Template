{
 "cells": [
  {
   "cell_type": "markdown",
   "id": "e55ebb43",
   "metadata": {},
   "source": [
    "## L2D Assignment - Machine Learning 2:"
   ]
  },
  {
   "cell_type": "markdown",
   "id": "a49d1f7a",
   "metadata": {},
   "source": [
    "This notebook contains your assignment questions for the **Improvement** lesson. Please attempt and complete all questions. The topics this assignment will assess are:\n",
    "\n",
    "1. Improvement\n",
    "\n",
    "\n",
    "When you have completed your assignment, please commit the changes to your GitHub repository's 'Assignments' folder, as instructed in the [Assignments section](https://learntodiscover.github.io/L2D-Handbook/section7.html) of the [L2D Handbook](https://learntodiscover.github.io/L2D-Handbook).\n"
   ]
  },
  {
   "cell_type": "markdown",
   "id": "2a121f5e-051a-4a73-bfc6-ef92c8ca6cc7",
   "metadata": {},
   "source": [
    "\n",
    "Take the torus-within-a-torus data generator from the Challenge in the lesson.\n"
   ]
  },
  {
   "cell_type": "markdown",
   "id": "44a1924f",
   "metadata": {},
   "source": [
    "1. Create data with three features and a noise level of 0.3."
   ]
  },
  {
   "cell_type": "code",
   "execution_count": null,
   "id": "8e3aab24",
   "metadata": {},
   "outputs": [],
   "source": []
  },
  {
   "cell_type": "code",
   "execution_count": null,
   "id": "f553a38d",
   "metadata": {},
   "outputs": [],
   "source": []
  },
  {
   "cell_type": "markdown",
   "id": "b89427fc",
   "metadata": {},
   "source": [
    "2. Create a pseudo-3D scatter plot of one of the test data sets to judge the difficulty of the task."
   ]
  },
  {
   "cell_type": "code",
   "execution_count": null,
   "id": "0bb9f82c",
   "metadata": {},
   "outputs": [],
   "source": []
  },
  {
   "cell_type": "markdown",
   "id": "2417239d",
   "metadata": {},
   "source": [
    "3. Train the above introduced classifiers using the stratified shuffle split to generate 10 sets of testing and training data and obtain the average score for each classifier."
   ]
  },
  {
   "cell_type": "code",
   "execution_count": null,
   "id": "fcda7a31",
   "metadata": {},
   "outputs": [],
   "source": []
  },
  {
   "cell_type": "code",
   "execution_count": null,
   "id": "85334fad",
   "metadata": {},
   "outputs": [],
   "source": []
  },
  {
   "cell_type": "markdown",
   "id": "aeee2b0f",
   "metadata": {},
   "source": [
    "4. Plot the feature importances obtained from the Random Forest classifier to see the contributions of each feature to the outcome.\n",
    "\n",
    "Note that with 3 or more features it is no longer possible to see the full state space in a plane.\n"
   ]
  },
  {
   "cell_type": "code",
   "execution_count": null,
   "id": "6988c731",
   "metadata": {},
   "outputs": [],
   "source": []
  },
  {
   "cell_type": "markdown",
   "id": "cbaf00e2",
   "metadata": {},
   "source": [
    "\n",
    "5. Optional: Check how the outcome varies depending on\n",
    "\n",
    "- Choice of seed for random number generator\n",
    "- Number of data splits\n",
    "- Percentage of data withheld for testing\n",
    "\n",
    "```\n",
    "## Recommendation\n",
    "\n",
    "Pick any of the provided (or other) data sets with labels to repeat the above. Feel free to try and do any testing or plotting that you find important. This is not an assignment to get the correct answer. Rather at this stage, we practise to use functionality from SciKit-learn to search for structure in the data that helps to achieve the best predictions possible.\n",
    "```"
   ]
  },
  {
   "cell_type": "code",
   "execution_count": null,
   "id": "aef32a75",
   "metadata": {},
   "outputs": [],
   "source": []
  }
 ],
 "metadata": {
  "kernelspec": {
   "display_name": "Python 3 (ipykernel)",
   "language": "python",
   "name": "python3"
  },
  "language_info": {
   "codemirror_mode": {
    "name": "ipython",
    "version": 3
   },
   "file_extension": ".py",
   "mimetype": "text/x-python",
   "name": "python",
   "nbconvert_exporter": "python",
   "pygments_lexer": "ipython3",
   "version": "3.12.6"
  }
 },
 "nbformat": 4,
 "nbformat_minor": 5
}
